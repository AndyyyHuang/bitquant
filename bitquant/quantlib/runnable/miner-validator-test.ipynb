{
 "cells": [
  {
   "cell_type": "code",
   "execution_count": 1,
   "outputs": [],
   "source": [
    "import nest_asyncio\n",
    "nest_asyncio.apply()"
   ],
   "metadata": {
    "collapsed": false,
    "ExecuteTime": {
     "end_time": "2024-03-12T14:51:55.257364Z",
     "start_time": "2024-03-12T14:51:54.578787Z"
    }
   },
   "id": "bf322ce9ce698c7b"
  },
  {
   "cell_type": "code",
   "execution_count": 2,
   "id": "initial_id",
   "metadata": {
    "collapsed": true,
    "ExecuteTime": {
     "end_time": "2024-03-12T14:51:58.501005Z",
     "start_time": "2024-03-12T14:51:56.305660Z"
    }
   },
   "outputs": [],
   "source": [
    "from bitquant.data.data_client import DataClient\n",
    "from bitquant.data.exchange import BinanceExchange\n",
    "from bitquant.quantlib.evaluation.evaluator import Evaluator\n",
    "from bitquant.quantlib.functions.functions import *\n",
    "from bitquant.quantlib.strategy_engine import StrategyEngine\n",
    "from bitquant.quantlib.signal_generation.factor_calculator import FactorCalculator, function_map\n",
    "from bitquant.quantlib.signal_generation.factor_selector import FactorSelector\n",
    "from bitquant.quantlib.signal_generation.factor_scaler import FactorScaler\n",
    "from bitquant.quantlib.signal_generation.factor_aggregator import FactorAggregatorIC\n",
    "from bitquant.base.pair import TRADABLE_PAIRS\n",
    "from bitquant.base.protocol import SymbolValueDict, PortfolioRecord\n",
    "from datetime import datetime\n",
    "import pandas as pd"
   ]
  },
  {
   "cell_type": "code",
   "execution_count": 6,
   "outputs": [
    {
     "name": "stderr",
     "output_type": "stream",
     "text": [
      "/Users/andy/Desktop/crypto_park/bittensor/bitquant/bitquant/quantlib/signal_generation/factor_scaler.py:46: FutureWarning: The previous implementation of stack is deprecated and will be removed in a future version of pandas. See the What's New notes for pandas 2.1.0 for details. Specify future_stack=True to adopt the new implementation and silence this warning.\n",
      "  cls.normalized_data = cls.normalized_data.unstack().iloc[rolling_window - 1:].stack()\n",
      "/Users/andy/Desktop/crypto_park/bittensor/bitquant/bitquant/quantlib/signal_generation/factor_scaler.py:48: FutureWarning: The previous implementation of stack is deprecated and will be removed in a future version of pandas. See the What's New notes for pandas 2.1.0 for details. Specify future_stack=True to adopt the new implementation and silence this warning.\n",
      "  how='all').fillna(0).stack()\n",
      "/Users/andy/anaconda3/lib/python3.10/site-packages/numpy/lib/function_base.py:2854: RuntimeWarning: invalid value encountered in divide\n",
      "  c /= stddev[:, None]\n",
      "/Users/andy/anaconda3/lib/python3.10/site-packages/numpy/lib/function_base.py:2855: RuntimeWarning: invalid value encountered in divide\n",
      "  c /= stddev[None, :]\n",
      "/Users/andy/Desktop/crypto_park/bittensor/bitquant/bitquant/quantlib/signal_generation/factor_aggregator.py:70: FutureWarning: Downcasting object dtype arrays on .fillna, .ffill, .bfill is deprecated and will change in a future version. Call result.infer_objects(copy=False) instead. To opt-in to the future behavior, set `pd.set_option('future.no_silent_downcasting', True)`\n",
      "  factor_ic_df = factor_ic_df.shift(1).bfill()\n"
     ]
    }
   ],
   "source": [
    "# symbols = list(TRADABLE_PAIRS)\n",
    "symbols = [\"ETHUSDT\", \"BTCUSDT\", \"BNBUSDT\", \"SOLUSDT\"]\n",
    "interval = \"1h\"\n",
    "st = \"2024-01-01 00:00:00\"\n",
    "et = datetime.utcnow().strftime(\"%Y-%m-%d %H:%M:%S\")\n",
    "data_client = DataClient(BinanceExchange)\n",
    "symbol_info, data = data_client.run(symbols, interval, st, et)\n",
    "\n",
    "factor_lis = [\"ts_midpoint(ts_natr(high,low,close,7),14)\", \"ts_delta(dynamic_ts_max(ts_bbands(close,20),28),7)\",\n",
    "              \"ts_midpoint(ts_ht_trendmode(close),21)\"]\n",
    "\n",
    "factor_calculator = FactorCalculator(function_map, different_axis=['ts', 'symbol', 'return_1'])\n",
    "factor_scaler = FactorScaler(scaling_window=180, orthogonalize=False, orthogonal_method='symmetry',\n",
    "                             ts_normalize=True, cross_section_normalize=False)\n",
    "factor_selector = FactorSelector()\n",
    "factor_aggregator = FactorAggregatorIC(training_window=90, rolling_type=\"avg\", ic_type='pearson')\n",
    "\n",
    "strategy_engine = StrategyEngine(init_factor_lis=factor_lis, factor_calculator=factor_calculator,\n",
    "                                 factor_scaler=factor_scaler, factor_selector=factor_selector,\n",
    "                                 factor_aggregator=factor_aggregator)\n",
    "portfolio_weight = strategy_engine.run(data)\n",
    "svdict = SymbolValueDict(portfolio_weight)\n",
    "portfolio_record = PortfolioRecord(svdict=svdict)\n"
   ],
   "metadata": {
    "collapsed": false,
    "ExecuteTime": {
     "end_time": "2024-03-12T08:00:01.300873Z",
     "start_time": "2024-03-12T07:59:57.554926Z"
    }
   },
   "id": "17329e83d7e57eb3"
  },
  {
   "cell_type": "code",
   "execution_count": 12,
   "outputs": [
    {
     "name": "stderr",
     "output_type": "stream",
     "text": [
      "/Users/andy/Desktop/crypto_park/bittensor/bitquant/bitquant/quantlib/signal_generation/factor_scaler.py:46: FutureWarning: The previous implementation of stack is deprecated and will be removed in a future version of pandas. See the What's New notes for pandas 2.1.0 for details. Specify future_stack=True to adopt the new implementation and silence this warning.\n",
      "  cls.normalized_data = cls.normalized_data.unstack().iloc[rolling_window - 1:].stack()\n",
      "/Users/andy/Desktop/crypto_park/bittensor/bitquant/bitquant/quantlib/signal_generation/factor_scaler.py:48: FutureWarning: The previous implementation of stack is deprecated and will be removed in a future version of pandas. See the What's New notes for pandas 2.1.0 for details. Specify future_stack=True to adopt the new implementation and silence this warning.\n",
      "  how='all').fillna(0).stack()\n",
      "/Users/andy/anaconda3/lib/python3.10/site-packages/numpy/lib/function_base.py:2854: RuntimeWarning: invalid value encountered in divide\n",
      "  c /= stddev[:, None]\n",
      "/Users/andy/anaconda3/lib/python3.10/site-packages/numpy/lib/function_base.py:2855: RuntimeWarning: invalid value encountered in divide\n",
      "  c /= stddev[None, :]\n",
      "/Users/andy/Desktop/crypto_park/bittensor/bitquant/bitquant/quantlib/signal_generation/factor_aggregator.py:70: FutureWarning: Downcasting object dtype arrays on .fillna, .ffill, .bfill is deprecated and will change in a future version. Call result.infer_objects(copy=False) instead. To opt-in to the future behavior, set `pd.set_option('future.no_silent_downcasting', True)`\n",
      "  factor_ic_df = factor_ic_df.shift(1).bfill()\n",
      "/Users/andy/Desktop/crypto_park/bittensor/bitquant/bitquant/quantlib/signal_generation/factor_scaler.py:46: FutureWarning: The previous implementation of stack is deprecated and will be removed in a future version of pandas. See the What's New notes for pandas 2.1.0 for details. Specify future_stack=True to adopt the new implementation and silence this warning.\n",
      "  cls.normalized_data = cls.normalized_data.unstack().iloc[rolling_window - 1:].stack()\n",
      "/Users/andy/Desktop/crypto_park/bittensor/bitquant/bitquant/quantlib/signal_generation/factor_scaler.py:48: FutureWarning: The previous implementation of stack is deprecated and will be removed in a future version of pandas. See the What's New notes for pandas 2.1.0 for details. Specify future_stack=True to adopt the new implementation and silence this warning.\n",
      "  how='all').fillna(0).stack()\n",
      "/Users/andy/anaconda3/lib/python3.10/site-packages/numpy/lib/function_base.py:2854: RuntimeWarning: invalid value encountered in divide\n",
      "  c /= stddev[:, None]\n",
      "/Users/andy/anaconda3/lib/python3.10/site-packages/numpy/lib/function_base.py:2855: RuntimeWarning: invalid value encountered in divide\n",
      "  c /= stddev[None, :]\n",
      "/Users/andy/Desktop/crypto_park/bittensor/bitquant/bitquant/quantlib/signal_generation/factor_aggregator.py:70: FutureWarning: Downcasting object dtype arrays on .fillna, .ffill, .bfill is deprecated and will change in a future version. Call result.infer_objects(copy=False) instead. To opt-in to the future behavior, set `pd.set_option('future.no_silent_downcasting', True)`\n",
      "  factor_ic_df = factor_ic_df.shift(1).bfill()\n",
      "/Users/andy/Desktop/crypto_park/bittensor/bitquant/bitquant/quantlib/signal_generation/factor_scaler.py:46: FutureWarning: The previous implementation of stack is deprecated and will be removed in a future version of pandas. See the What's New notes for pandas 2.1.0 for details. Specify future_stack=True to adopt the new implementation and silence this warning.\n",
      "  cls.normalized_data = cls.normalized_data.unstack().iloc[rolling_window - 1:].stack()\n",
      "/Users/andy/Desktop/crypto_park/bittensor/bitquant/bitquant/quantlib/signal_generation/factor_scaler.py:48: FutureWarning: The previous implementation of stack is deprecated and will be removed in a future version of pandas. See the What's New notes for pandas 2.1.0 for details. Specify future_stack=True to adopt the new implementation and silence this warning.\n",
      "  how='all').fillna(0).stack()\n",
      "/Users/andy/anaconda3/lib/python3.10/site-packages/numpy/lib/function_base.py:2854: RuntimeWarning: invalid value encountered in divide\n",
      "  c /= stddev[:, None]\n",
      "/Users/andy/anaconda3/lib/python3.10/site-packages/numpy/lib/function_base.py:2855: RuntimeWarning: invalid value encountered in divide\n",
      "  c /= stddev[None, :]\n",
      "/Users/andy/Desktop/crypto_park/bittensor/bitquant/bitquant/quantlib/signal_generation/factor_aggregator.py:70: FutureWarning: Downcasting object dtype arrays on .fillna, .ffill, .bfill is deprecated and will change in a future version. Call result.infer_objects(copy=False) instead. To opt-in to the future behavior, set `pd.set_option('future.no_silent_downcasting', True)`\n",
      "  factor_ic_df = factor_ic_df.shift(1).bfill()\n",
      "/Users/andy/Desktop/crypto_park/bittensor/bitquant/bitquant/quantlib/signal_generation/factor_scaler.py:46: FutureWarning: The previous implementation of stack is deprecated and will be removed in a future version of pandas. See the What's New notes for pandas 2.1.0 for details. Specify future_stack=True to adopt the new implementation and silence this warning.\n",
      "  cls.normalized_data = cls.normalized_data.unstack().iloc[rolling_window - 1:].stack()\n",
      "/Users/andy/Desktop/crypto_park/bittensor/bitquant/bitquant/quantlib/signal_generation/factor_scaler.py:48: FutureWarning: The previous implementation of stack is deprecated and will be removed in a future version of pandas. See the What's New notes for pandas 2.1.0 for details. Specify future_stack=True to adopt the new implementation and silence this warning.\n",
      "  how='all').fillna(0).stack()\n",
      "/Users/andy/anaconda3/lib/python3.10/site-packages/numpy/lib/function_base.py:2854: RuntimeWarning: invalid value encountered in divide\n",
      "  c /= stddev[:, None]\n",
      "/Users/andy/anaconda3/lib/python3.10/site-packages/numpy/lib/function_base.py:2855: RuntimeWarning: invalid value encountered in divide\n",
      "  c /= stddev[None, :]\n",
      "/Users/andy/Desktop/crypto_park/bittensor/bitquant/bitquant/quantlib/signal_generation/factor_aggregator.py:70: FutureWarning: Downcasting object dtype arrays on .fillna, .ffill, .bfill is deprecated and will change in a future version. Call result.infer_objects(copy=False) instead. To opt-in to the future behavior, set `pd.set_option('future.no_silent_downcasting', True)`\n",
      "  factor_ic_df = factor_ic_df.shift(1).bfill()\n",
      "/Users/andy/Desktop/crypto_park/bittensor/bitquant/bitquant/quantlib/signal_generation/factor_scaler.py:46: FutureWarning: The previous implementation of stack is deprecated and will be removed in a future version of pandas. See the What's New notes for pandas 2.1.0 for details. Specify future_stack=True to adopt the new implementation and silence this warning.\n",
      "  cls.normalized_data = cls.normalized_data.unstack().iloc[rolling_window - 1:].stack()\n",
      "/Users/andy/Desktop/crypto_park/bittensor/bitquant/bitquant/quantlib/signal_generation/factor_scaler.py:48: FutureWarning: The previous implementation of stack is deprecated and will be removed in a future version of pandas. See the What's New notes for pandas 2.1.0 for details. Specify future_stack=True to adopt the new implementation and silence this warning.\n",
      "  how='all').fillna(0).stack()\n",
      "/Users/andy/anaconda3/lib/python3.10/site-packages/numpy/lib/function_base.py:2854: RuntimeWarning: invalid value encountered in divide\n",
      "  c /= stddev[:, None]\n",
      "/Users/andy/anaconda3/lib/python3.10/site-packages/numpy/lib/function_base.py:2855: RuntimeWarning: invalid value encountered in divide\n",
      "  c /= stddev[None, :]\n",
      "/Users/andy/Desktop/crypto_park/bittensor/bitquant/bitquant/quantlib/signal_generation/factor_aggregator.py:70: FutureWarning: Downcasting object dtype arrays on .fillna, .ffill, .bfill is deprecated and will change in a future version. Call result.infer_objects(copy=False) instead. To opt-in to the future behavior, set `pd.set_option('future.no_silent_downcasting', True)`\n",
      "  factor_ic_df = factor_ic_df.shift(1).bfill()\n"
     ]
    }
   ],
   "source": [
    "import time\n",
    "# fake simulation\n",
    "\n",
    "portfolio_record_lis = []\n",
    "for _ in range(5):\n",
    "    symbols = [\"ETHUSDT\", \"BTCUSDT\", \"BNBUSDT\", \"SOLUSDT\"]\n",
    "    interval = \"30m\"\n",
    "    st = \"2024-03-01 00:00:00\"\n",
    "    et = datetime.utcnow().strftime(\"%Y-%m-%d %H:%M:%S\")\n",
    "    data_client = DataClient(BinanceExchange)\n",
    "    symbol_info, data = data_client.run(symbols, interval, st, et)\n",
    "    \n",
    "    factor_lis = [\"ts_midpoint(ts_natr(high,low,close,7),14)\", \"ts_delta(dynamic_ts_max(ts_bbands(close,20),28),7)\",\n",
    "                  \"ts_midpoint(ts_ht_trendmode(close),21)\"]\n",
    "    \n",
    "    factor_calculator = FactorCalculator(function_map, different_axis=['ts', 'symbol', 'return_1'])\n",
    "    factor_scaler = FactorScaler(scaling_window=180, orthogonalize=False, orthogonal_method='symmetry',\n",
    "                                 ts_normalize=True, cross_section_normalize=False)\n",
    "    factor_selector = FactorSelector()\n",
    "    factor_aggregator = FactorAggregatorIC(training_window=90, rolling_type=\"avg\", ic_type='pearson')\n",
    "    \n",
    "    strategy_engine = StrategyEngine(init_factor_lis=factor_lis, factor_calculator=factor_calculator,\n",
    "                                     factor_scaler=factor_scaler, factor_selector=factor_selector,\n",
    "                                     factor_aggregator=factor_aggregator)\n",
    "    portfolio_weight = strategy_engine.run(data)\n",
    "    svdict = SymbolValueDict(portfolio_weight)\n",
    "    portfolio_record = PortfolioRecord(svdict=svdict)\n",
    "    portfolio_record_lis.append(portfolio_record)\n",
    "    time.sleep(3*60)"
   ],
   "metadata": {
    "collapsed": false,
    "ExecuteTime": {
     "end_time": "2024-03-12T14:58:34.751150Z",
     "start_time": "2024-03-12T14:55:53.166259Z"
    }
   },
   "id": "c4ac8311345837c2"
  },
  {
   "cell_type": "markdown",
   "source": [
    "### Validator"
   ],
   "metadata": {
    "collapsed": false
   },
   "id": "6fe2a07b70c23bae"
  },
  {
   "cell_type": "code",
   "execution_count": 13,
   "outputs": [],
   "source": [
    "from bitquant.quantlib.evaluation.evaluator import Evaluator\n",
    "from bitquant.data.utils import TimeUtils"
   ],
   "metadata": {
    "collapsed": false,
    "ExecuteTime": {
     "end_time": "2024-03-12T14:58:34.758559Z",
     "start_time": "2024-03-12T14:58:34.755623Z"
    }
   },
   "id": "8c7fb0d8c95344c1"
  },
  {
   "cell_type": "code",
   "execution_count": 14,
   "outputs": [],
   "source": [
    "flg = len(portfolio_record_lis) - 1\n",
    "portfolio_weight_container =[]\n",
    "ts_ms_container = []\n",
    "for portfolio_record in portfolio_record_lis:\n",
    "    # construct portfolio weight history\n",
    "    portfolio_weight_container.append(portfolio_record.portfolio)\n",
    "    # fake timestamp for test\n",
    "    ts_ms_container.append(TimeUtils.now_in_ms() - flg * TimeUtils.interval_str_to_ms(\"30m\"))\n",
    "    flg -= 1\n",
    "\n",
    "# retrive the 1-minute kline data for validation\n",
    "ts_lis = [pd.to_datetime(ts_ms, unit=\"ms\", utc=True).ceil(\"1min\") for ts_ms in ts_ms_container]\n",
    "portfolio_weight_df = pd.DataFrame(portfolio_weight_container, index=ts_lis)\n",
    "symbols = portfolio_weight_df.columns.tolist()\n",
    "interval = \"1m\"\n",
    "st = TimeUtils.timestamp_to_dt_str(ts_lis[0], \"%Y-%m-%d %H:%M:%S\")\n",
    "et = TimeUtils.timestamp_to_dt_str(ts_lis[-1] + TimeUtils.str_to_timedelta(interval), \"%Y-%m-%d %H:%M:%S\")\n",
    "symbol_info, data = data_client.run(symbols=symbols, interval=interval, st=st, et=et)"
   ],
   "metadata": {
    "collapsed": false,
    "ExecuteTime": {
     "end_time": "2024-03-12T14:58:34.764444Z",
     "start_time": "2024-03-12T14:58:34.759757Z"
    }
   },
   "id": "da1a445d58f9a8f8"
  },
  {
   "cell_type": "code",
   "execution_count": 21,
   "outputs": [],
   "source": [
    "portfolio_weight_matrix = portfolio_weight_df.to_numpy()\n",
    "price_matrix = data.loc[[ts+TimeUtils.str_to_timedelta(interval) for ts in ts_lis], [\"open\", \"low\", \"high\", \"close\", \"vwap\"]].values.reshape(len(ts_lis), len(symbols), 5)\n",
    "\n",
    "volume_precision = symbol_info.set_index(\"symbol\").loc[symbols, \"volume_precision\"].values\n",
    "min_notional = symbol_info.set_index(\"symbol\").loc[symbols, \"notional\"].values"
   ],
   "metadata": {
    "collapsed": false,
    "ExecuteTime": {
     "end_time": "2024-03-12T15:04:04.689096Z",
     "start_time": "2024-03-12T15:04:04.682394Z"
    }
   },
   "id": "2498f5dc74cc5ce6"
  },
  {
   "cell_type": "code",
   "execution_count": 36,
   "outputs": [
    {
     "name": "stderr",
     "output_type": "stream",
     "text": [
      "/Users/andy/Desktop/crypto_park/bittensor/bitquant/bitquant/quantlib/evaluation/evaluator.py:30: NumbaExperimentalFeatureWarning: Use of isinstance() detected. This is an experimental feature.\n",
      "  tradeAmountInUsdt = -1 * orders_v * present_price * np.where(trade_portfolio_weight > 0, 1 + taker_fee, 1 - taker_fee)\n"
     ]
    },
    {
     "data": {
      "text/plain": "-0.008393290859999958"
     },
     "execution_count": 36,
     "metadata": {},
     "output_type": "execute_result"
    }
   ],
   "source": [
    "evaluator = Evaluator()\n",
    "profit_ratio = evaluator.evaluate(portfolio_weight_matrix, price_matrix, init_asset_value=10000, taker_fee=0.0004,\n",
    "                   volume_precision=volume_precision, min_notional=min_notional)\n",
    "print(profit_ratio)"
   ],
   "metadata": {
    "collapsed": false,
    "ExecuteTime": {
     "end_time": "2024-03-12T15:08:11.245425Z",
     "start_time": "2024-03-12T15:08:09.447995Z"
    }
   },
   "id": "dc913752f2e9bc90"
  }
 ],
 "metadata": {
  "kernelspec": {
   "display_name": "Python 3",
   "language": "python",
   "name": "python3"
  },
  "language_info": {
   "codemirror_mode": {
    "name": "ipython",
    "version": 2
   },
   "file_extension": ".py",
   "mimetype": "text/x-python",
   "name": "python",
   "nbconvert_exporter": "python",
   "pygments_lexer": "ipython2",
   "version": "2.7.6"
  }
 },
 "nbformat": 4,
 "nbformat_minor": 5
}
