{
 "cells": [
  {
   "cell_type": "code",
   "execution_count": 16,
   "outputs": [],
   "source": [
    "import nest_asyncio\n",
    "nest_asyncio.apply()"
   ],
   "metadata": {
    "collapsed": false,
    "ExecuteTime": {
     "end_time": "2024-03-13T16:19:21.958373Z",
     "start_time": "2024-03-13T16:19:21.956220Z"
    }
   },
   "id": "bf322ce9ce698c7b"
  },
  {
   "cell_type": "code",
   "execution_count": 17,
   "id": "initial_id",
   "metadata": {
    "collapsed": true,
    "ExecuteTime": {
     "end_time": "2024-03-13T16:19:22.277149Z",
     "start_time": "2024-03-13T16:19:22.273400Z"
    }
   },
   "outputs": [],
   "source": [
    "from bitquant.data.data_client import DataClient\n",
    "from bitquant.data.exchange import BinanceExchange\n",
    "from bitquant.quantlib.evaluation.evaluator import Evaluator\n",
    "from bitquant.quantlib.functions.functions import *\n",
    "from bitquant.quantlib.strategy_engine import StrategyEngine\n",
    "from bitquant.quantlib.signal_generation.factor_calculator import FactorCalculator, function_map\n",
    "from bitquant.quantlib.signal_generation.factor_selector import FactorSelector\n",
    "from bitquant.quantlib.signal_generation.factor_scaler import FactorScaler\n",
    "from bitquant.quantlib.signal_generation.factor_aggregator import FactorAggregatorIC\n",
    "from bitquant.base.pair import TRADABLE_PAIRS\n",
    "from bitquant.base.protocol import SymbolValueDict, PortfolioRecord\n",
    "from datetime import datetime\n",
    "import pandas as pd"
   ]
  },
  {
   "cell_type": "code",
   "execution_count": 24,
   "outputs": [
    {
     "name": "stderr",
     "output_type": "stream",
     "text": [
      "/Users/andy/Desktop/crypto_park/bittensor/bitquant/bitquant/quantlib/signal_generation/factor_scaler.py:46: FutureWarning: The previous implementation of stack is deprecated and will be removed in a future version of pandas. See the What's New notes for pandas 2.1.0 for details. Specify future_stack=True to adopt the new implementation and silence this warning.\n",
      "  cls.normalized_data = cls.normalized_data.unstack().iloc[rolling_window - 1:].stack()\n",
      "/Users/andy/Desktop/crypto_park/bittensor/bitquant/bitquant/quantlib/signal_generation/factor_scaler.py:48: FutureWarning: The previous implementation of stack is deprecated and will be removed in a future version of pandas. See the What's New notes for pandas 2.1.0 for details. Specify future_stack=True to adopt the new implementation and silence this warning.\n",
      "  how='all').fillna(0).stack()\n",
      "/Users/andy/anaconda3/lib/python3.10/site-packages/numpy/lib/function_base.py:2854: RuntimeWarning: invalid value encountered in divide\n",
      "  c /= stddev[:, None]\n",
      "/Users/andy/anaconda3/lib/python3.10/site-packages/numpy/lib/function_base.py:2855: RuntimeWarning: invalid value encountered in divide\n",
      "  c /= stddev[None, :]\n",
      "/Users/andy/Desktop/crypto_park/bittensor/bitquant/bitquant/quantlib/signal_generation/factor_aggregator.py:70: FutureWarning: Downcasting object dtype arrays on .fillna, .ffill, .bfill is deprecated and will change in a future version. Call result.infer_objects(copy=False) instead. To opt-in to the future behavior, set `pd.set_option('future.no_silent_downcasting', True)`\n",
      "  factor_ic_df = factor_ic_df.shift(1).bfill()\n"
     ]
    }
   ],
   "source": [
    "# symbols = list(TRADABLE_PAIRS)\n",
    "symbols = [\"ETHUSDT\", \"BTCUSDT\", \"BNBUSDT\", \"SOLUSDT\"]\n",
    "interval = \"30m\"\n",
    "st = \"2024-01-01 00:00:00\"\n",
    "et = datetime.utcnow().strftime(\"%Y-%m-%d %H:%M:%S\")\n",
    "data_client = DataClient(BinanceExchange)\n",
    "symbol_info, data = data_client.run(symbols, interval, st, et)\n",
    "\n",
    "factor_lis = [\"ts_midpoint(ts_natr(high,low,close,7),14)\", \"ts_delta(dynamic_ts_max(ts_bbands(close,20),28),7)\",\n",
    "              \"ts_midpoint(ts_ht_trendmode(close),21)\"]\n",
    "\n",
    "factor_calculator = FactorCalculator(function_map, different_axis=['ts', 'symbol', 'return_1'])\n",
    "factor_scaler = FactorScaler(scaling_window=180, orthogonalize=False, orthogonal_method='symmetry',\n",
    "                             ts_normalize=True, cross_section_normalize=False)\n",
    "factor_selector = FactorSelector()\n",
    "factor_aggregator = FactorAggregatorIC(training_window=90, rolling_type=\"avg\", ic_type='pearson')\n",
    "\n",
    "strategy_engine = StrategyEngine(init_factor_lis=factor_lis, factor_calculator=factor_calculator,\n",
    "                                 factor_scaler=factor_scaler, factor_selector=factor_selector,\n",
    "                                 factor_aggregator=factor_aggregator)\n",
    "portfolio_weight = strategy_engine.run(data)\n",
    "svdict = SymbolValueDict(portfolio_weight)\n",
    "portfolio_record = PortfolioRecord(portfolio=svdict)\n"
   ],
   "metadata": {
    "collapsed": false,
    "ExecuteTime": {
     "end_time": "2024-03-13T16:20:18.936926Z",
     "start_time": "2024-03-13T16:20:15.285006Z"
    }
   },
   "id": "17329e83d7e57eb3"
  },
  {
   "cell_type": "code",
   "execution_count": 23,
   "outputs": [
    {
     "data": {
      "text/plain": "PortfolioRecord(portfolio={'BTCUSDT': -0.11959661986468531, 'ETHUSDT': 0.4999999999999999, 'BCHUSDT': 0, 'XRPUSDT': 0, 'EOSUSDT': 0, 'LTCUSDT': 0, 'TRXUSDT': 0, 'ETCUSDT': 0, 'LINKUSDT': 0, 'XLMUSDT': 0, 'ADAUSDT': 0, 'XMRUSDT': 0, 'DASHUSDT': 0, 'ZECUSDT': 0, 'XTZUSDT': 0, 'BNBUSDT': -0.35612291106169447, 'ATOMUSDT': 0, 'ONTUSDT': 0, 'IOTAUSDT': 0, 'BATUSDT': 0, 'VETUSDT': 0, 'NEOUSDT': 0, 'QTUMUSDT': 0, 'IOSTUSDT': 0, 'THETAUSDT': 0, 'ALGOUSDT': 0, 'ZILUSDT': 0, 'KNCUSDT': 0, 'ZRXUSDT': 0, 'COMPUSDT': 0, 'OMGUSDT': 0, 'DOGEUSDT': 0, 'SXPUSDT': 0, 'KAVAUSDT': 0, 'BANDUSDT': 0, 'RLCUSDT': 0, 'WAVESUSDT': 0, 'MKRUSDT': 0, 'SNXUSDT': 0, 'DOTUSDT': 0, 'DEFIUSDT': 0, 'YFIUSDT': 0, 'BALUSDT': 0, 'CRVUSDT': 0, 'TRBUSDT': 0, 'RUNEUSDT': 0, 'SUSHIUSDT': 0, 'EGLDUSDT': 0, 'SOLUSDT': -0.024280469073620158, 'ICXUSDT': 0, 'STORJUSDT': 0, 'BLZUSDT': 0, 'UNIUSDT': 0, 'AVAXUSDT': 0, 'FTMUSDT': 0, 'ENJUSDT': 0, 'FLMUSDT': 0, 'RENUSDT': 0, 'KSMUSDT': 0, 'NEARUSDT': 0, 'AAVEUSDT': 0, 'FILUSDT': 0, 'RSRUSDT': 0, 'LRCUSDT': 0, 'MATICUSDT': 0, 'OCEANUSDT': 0, 'BELUSDT': 0, 'CTKUSDT': 0, 'AXSUSDT': 0, 'ALPHAUSDT': 0, 'ZENUSDT': 0, 'SKLUSDT': 0, 'GRTUSDT': 0, '1INCHUSDT': 0, 'CHZUSDT': 0, 'SANDUSDT': 0, 'ANKRUSDT': 0, 'LITUSDT': 0, 'UNFIUSDT': 0, 'REEFUSDT': 0, 'RVNUSDT': 0, 'SFPUSDT': 0, 'XEMUSDT': 0, 'COTIUSDT': 0, 'CHRUSDT': 0, 'MANAUSDT': 0, 'ALICEUSDT': 0, 'HBARUSDT': 0, 'ONEUSDT': 0, 'LINAUSDT': 0, 'STMXUSDT': 0, 'DENTUSDT': 0, 'CELRUSDT': 0, 'HOTUSDT': 0, 'MTLUSDT': 0, 'OGNUSDT': 0, 'NKNUSDT': 0, 'DGBUSDT': 0, '1000SHIBUSDT': 0, 'BAKEUSDT': 0, 'GTCUSDT': 0, 'BTCDOMUSDT': 0, 'IOTXUSDT': 0, 'AUDIOUSDT': 0, 'C98USDT': 0, 'MASKUSDT': 0, 'ATAUSDT': 0, 'DYDXUSDT': 0, '1000XECUSDT': 0, 'GALAUSDT': 0, 'CELOUSDT': 0, 'ARUSDT': 0, 'KLAYUSDT': 0, 'ARPAUSDT': 0, 'CTSIUSDT': 0, 'LPTUSDT': 0, 'ENSUSDT': 0, 'PEOPLEUSDT': 0, 'ANTUSDT': 0, 'ROSEUSDT': 0, 'DUSKUSDT': 0, 'FLOWUSDT': 0, 'IMXUSDT': 0, 'API3USDT': 0, 'GMTUSDT': 0, 'APEUSDT': 0, 'WOOUSDT': 0, 'JASMYUSDT': 0, 'DARUSDT': 0, 'GALUSDT': 0, 'OPUSDT': 0, 'INJUSDT': 0, 'STGUSDT': 0, 'FOOTBALLUSDT': 0, 'SPELLUSDT': 0, '1000LUNCUSDT': 0, 'LUNA2USDT': 0, 'LDOUSDT': 0, 'CVXUSDT': 0, 'ICPUSDT': 0, 'APTUSDT': 0, 'QNTUSDT': 0, 'BLUEBIRDUSDT': 0, 'FETUSDT': 0, 'FXSUSDT': 0, 'HOOKUSDT': 0, 'MAGICUSDT': 0, 'TUSDT': 0, 'RNDRUSDT': 0, 'HIGHUSDT': 0, 'MINAUSDT': 0, 'ASTRUSDT': 0, 'AGIXUSDT': 0, 'PHBUSDT': 0, 'GMXUSDT': 0, 'CFXUSDT': 0, 'STXUSDT': 0, 'BNXUSDT': 0, 'ACHUSDT': 0, 'SSVUSDT': 0, 'CKBUSDT': 0, 'PERPUSDT': 0, 'TRUUSDT': 0, 'LQTYUSDT': 0, 'USDCUSDT': 0, 'IDUSDT': 0, 'ARBUSDT': 0, 'JOEUSDT': 0, 'TLMUSDT': 0, 'AMBUSDT': 0, 'LEVERUSDT': 0, 'RDNTUSDT': 0, 'HFTUSDT': 0, 'XVSUSDT': 0, 'ETHBTC': 0, 'BLURUSDT': 0, 'EDUUSDT': 0, 'IDEXUSDT': 0, 'SUIUSDT': 0, '1000PEPEUSDT': 0, '1000FLOKIUSDT': 0, 'UMAUSDT': 0, 'RADUSDT': 0, 'KEYUSDT': 0, 'COMBOUSDT': 0, 'NMRUSDT': 0, 'MAVUSDT': 0, 'MDTUSDT': 0, 'XVGUSDT': 0, 'WLDUSDT': 0, 'PENDLEUSDT': 0, 'ARKMUSDT': 0, 'AGLDUSDT': 0, 'YGGUSDT': 0, 'DODOXUSDT': 0, 'BNTUSDT': 0, 'OXTUSDT': 0, 'SEIUSDT': 0, 'CYBERUSDT': 0, 'HIFIUSDT': 0, 'ARKUSDT': 0, 'FRONTUSDT': 0, 'GLMRUSDT': 0, 'BICOUSDT': 0, 'STRAXUSDT': 0, 'LOOMUSDT': 0, 'BIGTIMEUSDT': 0, 'BONDUSDT': 0, 'ORBSUSDT': 0, 'STPTUSDT': 0, 'WAXPUSDT': 0, 'BSVUSDT': 0, 'RIFUSDT': 0, 'POLYXUSDT': 0, 'GASUSDT': 0, 'POWRUSDT': 0, 'SLPUSDT': 0, 'TIAUSDT': 0, 'SNTUSDT': 0, 'CAKEUSDT': 0, 'MEMEUSDT': 0, 'TWTUSDT': 0, 'TOKENUSDT': 0, 'ORDIUSDT': 0, 'STEEMUSDT': 0, 'BADGERUSDT': 0, 'ILVUSDT': 0, 'NTRNUSDT': 0, 'MBLUSDT': 0, 'KASUSDT': 0, 'BEAMXUSDT': 0, '1000BONKUSDT': 0, 'PYTHUSDT': 0, 'SUPERUSDT': 0, 'USTCUSDT': 0, 'ONGUSDT': 0, 'ETHWUSDT': 0, 'JTOUSDT': 0, '1000SATSUSDT': 0, 'AUCTIONUSDT': 0, '1000RATSUSDT': 0, 'ACEUSDT': 0, 'MOVRUSDT': 0, 'NFPUSDT': 0, 'BTCUSDC': 0, 'ETHUSDC': 0, 'BNBUSDC': 0, 'SOLUSDC': 0, 'XRPUSDC': 0, 'AIUSDT': 0, 'XAIUSDT': 0, 'DOGEUSDC': 0, 'WIFUSDT': 0, 'MANTAUSDT': 0, 'ONDOUSDT': 0, 'LSKUSDT': 0, 'ALTUSDT': 0, 'JUPUSDT': 0, 'ZETAUSDT': 0, 'RONINUSDT': 0, 'DYMUSDT': 0, 'SUIUSDC': 0, 'OMUSDT': 0, 'LINKUSDC': 0, 'PIXELUSDT': 0, 'STRKUSDT': 0, 'MAVIAUSDT': 0, 'ORDIUSDC': 0, 'GLMUSDT': 0, 'PORTALUSDT': 0, 'TONUSDT': 0, 'AXLUSDT': 0, 'MYROUSDT': 0, '1000PEPEUSDC': 0, 'METISUSDT': 0, 'AEVOUSDT': 0}, timestamp_ms=1710345499076)"
     },
     "execution_count": 23,
     "metadata": {},
     "output_type": "execute_result"
    }
   ],
   "source": [
    "portfolio_record"
   ],
   "metadata": {
    "collapsed": false,
    "ExecuteTime": {
     "end_time": "2024-03-13T16:20:08.276517Z",
     "start_time": "2024-03-13T16:20:08.267636Z"
    }
   },
   "id": "6ae7196c8c4b3ca0"
  },
  {
   "cell_type": "code",
   "execution_count": 4,
   "outputs": [
    {
     "name": "stderr",
     "output_type": "stream",
     "text": [
      "/Users/andy/Desktop/crypto_park/bittensor/bitquant/bitquant/quantlib/signal_generation/factor_scaler.py:46: FutureWarning: The previous implementation of stack is deprecated and will be removed in a future version of pandas. See the What's New notes for pandas 2.1.0 for details. Specify future_stack=True to adopt the new implementation and silence this warning.\n",
      "  cls.normalized_data = cls.normalized_data.unstack().iloc[rolling_window - 1:].stack()\n",
      "/Users/andy/Desktop/crypto_park/bittensor/bitquant/bitquant/quantlib/signal_generation/factor_scaler.py:48: FutureWarning: The previous implementation of stack is deprecated and will be removed in a future version of pandas. See the What's New notes for pandas 2.1.0 for details. Specify future_stack=True to adopt the new implementation and silence this warning.\n",
      "  how='all').fillna(0).stack()\n",
      "/Users/andy/anaconda3/lib/python3.10/site-packages/numpy/lib/function_base.py:2854: RuntimeWarning: invalid value encountered in divide\n",
      "  c /= stddev[:, None]\n",
      "/Users/andy/anaconda3/lib/python3.10/site-packages/numpy/lib/function_base.py:2855: RuntimeWarning: invalid value encountered in divide\n",
      "  c /= stddev[None, :]\n",
      "/Users/andy/Desktop/crypto_park/bittensor/bitquant/bitquant/quantlib/signal_generation/factor_aggregator.py:70: FutureWarning: Downcasting object dtype arrays on .fillna, .ffill, .bfill is deprecated and will change in a future version. Call result.infer_objects(copy=False) instead. To opt-in to the future behavior, set `pd.set_option('future.no_silent_downcasting', True)`\n",
      "  factor_ic_df = factor_ic_df.shift(1).bfill()\n",
      "/Users/andy/Desktop/crypto_park/bittensor/bitquant/bitquant/quantlib/signal_generation/factor_scaler.py:46: FutureWarning: The previous implementation of stack is deprecated and will be removed in a future version of pandas. See the What's New notes for pandas 2.1.0 for details. Specify future_stack=True to adopt the new implementation and silence this warning.\n",
      "  cls.normalized_data = cls.normalized_data.unstack().iloc[rolling_window - 1:].stack()\n",
      "/Users/andy/Desktop/crypto_park/bittensor/bitquant/bitquant/quantlib/signal_generation/factor_scaler.py:48: FutureWarning: The previous implementation of stack is deprecated and will be removed in a future version of pandas. See the What's New notes for pandas 2.1.0 for details. Specify future_stack=True to adopt the new implementation and silence this warning.\n",
      "  how='all').fillna(0).stack()\n",
      "/Users/andy/anaconda3/lib/python3.10/site-packages/numpy/lib/function_base.py:2854: RuntimeWarning: invalid value encountered in divide\n",
      "  c /= stddev[:, None]\n",
      "/Users/andy/anaconda3/lib/python3.10/site-packages/numpy/lib/function_base.py:2855: RuntimeWarning: invalid value encountered in divide\n",
      "  c /= stddev[None, :]\n",
      "/Users/andy/Desktop/crypto_park/bittensor/bitquant/bitquant/quantlib/signal_generation/factor_aggregator.py:70: FutureWarning: Downcasting object dtype arrays on .fillna, .ffill, .bfill is deprecated and will change in a future version. Call result.infer_objects(copy=False) instead. To opt-in to the future behavior, set `pd.set_option('future.no_silent_downcasting', True)`\n",
      "  factor_ic_df = factor_ic_df.shift(1).bfill()\n",
      "/Users/andy/Desktop/crypto_park/bittensor/bitquant/bitquant/quantlib/signal_generation/factor_scaler.py:46: FutureWarning: The previous implementation of stack is deprecated and will be removed in a future version of pandas. See the What's New notes for pandas 2.1.0 for details. Specify future_stack=True to adopt the new implementation and silence this warning.\n",
      "  cls.normalized_data = cls.normalized_data.unstack().iloc[rolling_window - 1:].stack()\n",
      "/Users/andy/Desktop/crypto_park/bittensor/bitquant/bitquant/quantlib/signal_generation/factor_scaler.py:48: FutureWarning: The previous implementation of stack is deprecated and will be removed in a future version of pandas. See the What's New notes for pandas 2.1.0 for details. Specify future_stack=True to adopt the new implementation and silence this warning.\n",
      "  how='all').fillna(0).stack()\n",
      "/Users/andy/anaconda3/lib/python3.10/site-packages/numpy/lib/function_base.py:2854: RuntimeWarning: invalid value encountered in divide\n",
      "  c /= stddev[:, None]\n",
      "/Users/andy/anaconda3/lib/python3.10/site-packages/numpy/lib/function_base.py:2855: RuntimeWarning: invalid value encountered in divide\n",
      "  c /= stddev[None, :]\n",
      "/Users/andy/Desktop/crypto_park/bittensor/bitquant/bitquant/quantlib/signal_generation/factor_aggregator.py:70: FutureWarning: Downcasting object dtype arrays on .fillna, .ffill, .bfill is deprecated and will change in a future version. Call result.infer_objects(copy=False) instead. To opt-in to the future behavior, set `pd.set_option('future.no_silent_downcasting', True)`\n",
      "  factor_ic_df = factor_ic_df.shift(1).bfill()\n"
     ]
    }
   ],
   "source": [
    "import time\n",
    "# fake simulation\n",
    "\n",
    "portfolio_record_lis = []\n",
    "for _ in range(3):\n",
    "    symbols = [\"ETHUSDT\", \"BTCUSDT\", \"BNBUSDT\", \"SOLUSDT\"]\n",
    "    interval = \"30m\"\n",
    "    st = \"2024-03-01 00:00:00\"\n",
    "    et = datetime.utcnow().strftime(\"%Y-%m-%d %H:%M:%S\")\n",
    "    data_client = DataClient(BinanceExchange)\n",
    "    symbol_info, data = data_client.run(symbols, interval, st, et)\n",
    "    \n",
    "    factor_lis = [\"ts_midpoint(ts_natr(high,low,close,7),14)\", \"ts_delta(dynamic_ts_max(ts_bbands(close,20),28),7)\",\n",
    "                  \"ts_midpoint(ts_ht_trendmode(close),21)\"]\n",
    "    \n",
    "    factor_calculator = FactorCalculator(function_map, different_axis=['ts', 'symbol', 'return_1'])\n",
    "    factor_scaler = FactorScaler(scaling_window=180, orthogonalize=False, orthogonal_method='symmetry',\n",
    "                                 ts_normalize=True, cross_section_normalize=False)\n",
    "    factor_selector = FactorSelector()\n",
    "    factor_aggregator = FactorAggregatorIC(training_window=90, rolling_type=\"avg\", ic_type='pearson')\n",
    "    \n",
    "    strategy_engine = StrategyEngine(init_factor_lis=factor_lis, factor_calculator=factor_calculator,\n",
    "                                     factor_scaler=factor_scaler, factor_selector=factor_selector,\n",
    "                                     factor_aggregator=factor_aggregator)\n",
    "    portfolio_weight = strategy_engine.run(data)\n",
    "    svdict = SymbolValueDict(portfolio_weight)\n",
    "    portfolio_record = PortfolioRecord(portfolio=svdict)\n",
    "    portfolio_record_lis.append(portfolio_record)\n",
    "    time.sleep(30*60)"
   ],
   "metadata": {
    "collapsed": false,
    "ExecuteTime": {
     "end_time": "2024-03-13T16:01:42.901190Z",
     "start_time": "2024-03-13T15:58:35.696772Z"
    }
   },
   "id": "c4ac8311345837c2"
  },
  {
   "cell_type": "markdown",
   "source": [
    "### Validator"
   ],
   "metadata": {
    "collapsed": false
   },
   "id": "6fe2a07b70c23bae"
  },
  {
   "cell_type": "code",
   "execution_count": 7,
   "outputs": [],
   "source": [
    "from bitquant.quantlib.evaluation.evaluator import Evaluator\n",
    "from bitquant.utils.timeutils import TimeUtils"
   ],
   "metadata": {
    "collapsed": false,
    "ExecuteTime": {
     "end_time": "2024-03-13T16:06:18.797927Z",
     "start_time": "2024-03-13T16:06:18.794129Z"
    }
   },
   "id": "8c7fb0d8c95344c1"
  },
  {
   "cell_type": "code",
   "execution_count": 12,
   "outputs": [],
   "source": [
    "interval = \"1m\"\n",
    "\n",
    "flg = len(portfolio_record_lis) - 1\n",
    "portfolio_weight_container =[]\n",
    "ts_ms_container = []\n",
    "for portfolio_record in portfolio_record_lis:\n",
    "    # construct portfolio weight history\n",
    "    portfolio_weight_container.append(portfolio_record.portfolio)\n",
    "    # fake timestamp for test\n",
    "    ts_ms_container.append(TimeUtils.now_in_ms() - flg * TimeUtils.interval_str_to_ms(\"30m\") - 2 * TimeUtils.interval_str_to_ms(interval))\n",
    "    flg -= 1\n",
    "\n",
    "# retrive the 1-minute kline data for validation\n",
    "ts_lis = [pd.to_datetime(ts_ms, unit=\"ms\", utc=True).ceil(\"1min\") for ts_ms in ts_ms_container]\n",
    "portfolio_weight_df = pd.DataFrame(portfolio_weight_container, index=ts_lis)\n",
    "symbols = portfolio_weight_df.columns.tolist()\n",
    "\n",
    "st = TimeUtils.timestamp_to_dt_str(ts_lis[0], \"%Y-%m-%d %H:%M:%S\")\n",
    "et = TimeUtils.timestamp_to_dt_str(ts_lis[-1] + TimeUtils.str_to_timedelta(interval), \"%Y-%m-%d %H:%M:%S\")\n",
    "symbol_info, data = data_client.run(symbols=symbols, interval=interval, st=st, et=et)"
   ],
   "metadata": {
    "collapsed": false,
    "ExecuteTime": {
     "end_time": "2024-03-13T16:12:43.805320Z",
     "start_time": "2024-03-13T16:11:12.732251Z"
    }
   },
   "id": "da1a445d58f9a8f8"
  },
  {
   "cell_type": "code",
   "execution_count": 13,
   "outputs": [],
   "source": [
    "portfolio_weight_matrix = portfolio_weight_df.to_numpy()\n",
    "price_matrix = data.loc[[ts+TimeUtils.str_to_timedelta(interval) for ts in ts_lis], [\"open\", \"low\", \"high\", \"close\", \"vwap\"]].values.reshape(len(ts_lis), len(symbols), 5)\n",
    "\n",
    "volume_precision = symbol_info.set_index(\"symbol\").loc[symbols, \"volume_precision\"].values\n",
    "min_notional = symbol_info.set_index(\"symbol\").loc[symbols, \"notional\"].values"
   ],
   "metadata": {
    "collapsed": false,
    "ExecuteTime": {
     "end_time": "2024-03-13T16:12:47.152205Z",
     "start_time": "2024-03-13T16:12:47.143418Z"
    }
   },
   "id": "2498f5dc74cc5ce6"
  },
  {
   "cell_type": "code",
   "execution_count": 14,
   "outputs": [
    {
     "data": {
      "text/plain": "\u001B[31m╭─\u001B[0m\u001B[31m──────────────────────────────\u001B[0m\u001B[31m \u001B[0m\u001B[1;31mTraceback \u001B[0m\u001B[1;2;31m(most recent call last)\u001B[0m\u001B[31m \u001B[0m\u001B[31m───────────────────────────────\u001B[0m\u001B[31m─╮\u001B[0m\n\u001B[31m│\u001B[0m in \u001B[92m<module>\u001B[0m:\u001B[94m2\u001B[0m                                                                                    \u001B[31m│\u001B[0m\n\u001B[31m│\u001B[0m                                                                                                  \u001B[31m│\u001B[0m\n\u001B[31m│\u001B[0m   \u001B[2m1 \u001B[0mevaluator = Evaluator()                                                                      \u001B[31m│\u001B[0m\n\u001B[31m│\u001B[0m \u001B[31m❱ \u001B[0m2 profit_ratio = evaluator.evaluate(portfolio_weight_matrix, price_matrix, init_asset_valu     \u001B[31m│\u001B[0m\n\u001B[31m│\u001B[0m   \u001B[2m3 \u001B[0m\u001B[2m│   │   │   │      \u001B[0mvolume_precision=volume_precision, min_notional=min_notional)             \u001B[31m│\u001B[0m\n\u001B[31m│\u001B[0m   \u001B[2m4 \u001B[0m\u001B[96mprint\u001B[0m(profit_ratio)                                                                          \u001B[31m│\u001B[0m\n\u001B[31m│\u001B[0m   \u001B[2m5 \u001B[0m                                                                                             \u001B[31m│\u001B[0m\n\u001B[31m│\u001B[0m                                                                                                  \u001B[31m│\u001B[0m\n\u001B[31m│\u001B[0m \u001B[2;33m/Users/andy/Desktop/crypto_park/bittensor/bitquant/bitquant/quantlib/evaluation/\u001B[0m\u001B[1;33mevaluator.py\u001B[0m:\u001B[94m51\u001B[0m  \u001B[31m│\u001B[0m\n\u001B[31m│\u001B[0m in \u001B[92mevaluate\u001B[0m                                                                                      \u001B[31m│\u001B[0m\n\u001B[31m│\u001B[0m                                                                                                  \u001B[31m│\u001B[0m\n\u001B[31m│\u001B[0m   \u001B[2m48 \u001B[0m\u001B[2m│   │   \u001B[0malways_delta_neutral = np.apply_along_axis(\u001B[96mself\u001B[0m.check_delta_neutral, axis=\u001B[94m1\u001B[0m, arr    \u001B[31m│\u001B[0m\n\u001B[31m│\u001B[0m   \u001B[2m49 \u001B[0m\u001B[2m│   │   \u001B[0m                                                                                    \u001B[31m│\u001B[0m\n\u001B[31m│\u001B[0m   \u001B[2m50 \u001B[0m\u001B[2m│   │   \u001B[0m\u001B[94mif\u001B[0m \u001B[95mnot\u001B[0m always_delta_neutral:                                                        \u001B[31m│\u001B[0m\n\u001B[31m│\u001B[0m \u001B[31m❱ \u001B[0m51 \u001B[2m│   │   │   \u001B[0m\u001B[94mraise\u001B[0m \u001B[96mException\u001B[0m(\u001B[33m\"\u001B[0m\u001B[33mError, not always delta neutral\u001B[0m\u001B[33m\"\u001B[0m)                              \u001B[31m│\u001B[0m\n\u001B[31m│\u001B[0m   \u001B[2m52 \u001B[0m\u001B[2m│   │   \u001B[0m                                                                                    \u001B[31m│\u001B[0m\n\u001B[31m│\u001B[0m   \u001B[2m53 \u001B[0m\u001B[2m│   │   \u001B[0m\u001B[96mself\u001B[0m.res = _start_loop(portfolio_weight_matrix, open_price_matrix, init_asset_va    \u001B[31m│\u001B[0m\n\u001B[31m│\u001B[0m   \u001B[2m54 \u001B[0m\u001B[2m│   │   \u001B[0mfinal_position = \u001B[96mself\u001B[0m.res[-\u001B[94m1\u001B[0m, :-\u001B[94m1\u001B[0m]                                                  \u001B[31m│\u001B[0m\n\u001B[31m╰──────────────────────────────────────────────────────────────────────────────────────────────────╯\u001B[0m\n\u001B[1;91mException: \u001B[0mError, not always delta neutral\n",
      "text/html": "<pre style=\"white-space:pre;overflow-x:auto;line-height:normal;font-family:Menlo,'DejaVu Sans Mono',consolas,'Courier New',monospace\"><span style=\"color: #800000; text-decoration-color: #800000\">╭─────────────────────────────── </span><span style=\"color: #800000; text-decoration-color: #800000; font-weight: bold\">Traceback </span><span style=\"color: #bf7f7f; text-decoration-color: #bf7f7f; font-weight: bold\">(most recent call last)</span><span style=\"color: #800000; text-decoration-color: #800000\"> ────────────────────────────────╮</span>\n<span style=\"color: #800000; text-decoration-color: #800000\">│</span> in <span style=\"color: #00ff00; text-decoration-color: #00ff00\">&lt;module&gt;</span>:<span style=\"color: #0000ff; text-decoration-color: #0000ff\">2</span>                                                                                    <span style=\"color: #800000; text-decoration-color: #800000\">│</span>\n<span style=\"color: #800000; text-decoration-color: #800000\">│</span>                                                                                                  <span style=\"color: #800000; text-decoration-color: #800000\">│</span>\n<span style=\"color: #800000; text-decoration-color: #800000\">│</span>   <span style=\"color: #7f7f7f; text-decoration-color: #7f7f7f\">1 </span>evaluator = Evaluator()                                                                      <span style=\"color: #800000; text-decoration-color: #800000\">│</span>\n<span style=\"color: #800000; text-decoration-color: #800000\">│</span> <span style=\"color: #800000; text-decoration-color: #800000\">❱ </span>2 profit_ratio = evaluator.evaluate(portfolio_weight_matrix, price_matrix, init_asset_valu     <span style=\"color: #800000; text-decoration-color: #800000\">│</span>\n<span style=\"color: #800000; text-decoration-color: #800000\">│</span>   <span style=\"color: #7f7f7f; text-decoration-color: #7f7f7f\">3 </span><span style=\"color: #7f7f7f; text-decoration-color: #7f7f7f\">│   │   │   │      </span>volume_precision=volume_precision, min_notional=min_notional)             <span style=\"color: #800000; text-decoration-color: #800000\">│</span>\n<span style=\"color: #800000; text-decoration-color: #800000\">│</span>   <span style=\"color: #7f7f7f; text-decoration-color: #7f7f7f\">4 </span><span style=\"color: #00ffff; text-decoration-color: #00ffff\">print</span>(profit_ratio)                                                                          <span style=\"color: #800000; text-decoration-color: #800000\">│</span>\n<span style=\"color: #800000; text-decoration-color: #800000\">│</span>   <span style=\"color: #7f7f7f; text-decoration-color: #7f7f7f\">5 </span>                                                                                             <span style=\"color: #800000; text-decoration-color: #800000\">│</span>\n<span style=\"color: #800000; text-decoration-color: #800000\">│</span>                                                                                                  <span style=\"color: #800000; text-decoration-color: #800000\">│</span>\n<span style=\"color: #800000; text-decoration-color: #800000\">│</span> <span style=\"color: #bfbf7f; text-decoration-color: #bfbf7f\">/Users/andy/Desktop/crypto_park/bittensor/bitquant/bitquant/quantlib/evaluation/</span><span style=\"color: #808000; text-decoration-color: #808000; font-weight: bold\">evaluator.py</span>:<span style=\"color: #0000ff; text-decoration-color: #0000ff\">51</span>  <span style=\"color: #800000; text-decoration-color: #800000\">│</span>\n<span style=\"color: #800000; text-decoration-color: #800000\">│</span> in <span style=\"color: #00ff00; text-decoration-color: #00ff00\">evaluate</span>                                                                                      <span style=\"color: #800000; text-decoration-color: #800000\">│</span>\n<span style=\"color: #800000; text-decoration-color: #800000\">│</span>                                                                                                  <span style=\"color: #800000; text-decoration-color: #800000\">│</span>\n<span style=\"color: #800000; text-decoration-color: #800000\">│</span>   <span style=\"color: #7f7f7f; text-decoration-color: #7f7f7f\">48 </span><span style=\"color: #7f7f7f; text-decoration-color: #7f7f7f\">│   │   </span>always_delta_neutral = np.apply_along_axis(<span style=\"color: #00ffff; text-decoration-color: #00ffff\">self</span>.check_delta_neutral, axis=<span style=\"color: #0000ff; text-decoration-color: #0000ff\">1</span>, arr    <span style=\"color: #800000; text-decoration-color: #800000\">│</span>\n<span style=\"color: #800000; text-decoration-color: #800000\">│</span>   <span style=\"color: #7f7f7f; text-decoration-color: #7f7f7f\">49 </span><span style=\"color: #7f7f7f; text-decoration-color: #7f7f7f\">│   │   </span>                                                                                    <span style=\"color: #800000; text-decoration-color: #800000\">│</span>\n<span style=\"color: #800000; text-decoration-color: #800000\">│</span>   <span style=\"color: #7f7f7f; text-decoration-color: #7f7f7f\">50 </span><span style=\"color: #7f7f7f; text-decoration-color: #7f7f7f\">│   │   </span><span style=\"color: #0000ff; text-decoration-color: #0000ff\">if</span> <span style=\"color: #ff00ff; text-decoration-color: #ff00ff\">not</span> always_delta_neutral:                                                        <span style=\"color: #800000; text-decoration-color: #800000\">│</span>\n<span style=\"color: #800000; text-decoration-color: #800000\">│</span> <span style=\"color: #800000; text-decoration-color: #800000\">❱ </span>51 <span style=\"color: #7f7f7f; text-decoration-color: #7f7f7f\">│   │   │   </span><span style=\"color: #0000ff; text-decoration-color: #0000ff\">raise</span> <span style=\"color: #00ffff; text-decoration-color: #00ffff\">Exception</span>(<span style=\"color: #808000; text-decoration-color: #808000\">\"Error, not always delta neutral\"</span>)                              <span style=\"color: #800000; text-decoration-color: #800000\">│</span>\n<span style=\"color: #800000; text-decoration-color: #800000\">│</span>   <span style=\"color: #7f7f7f; text-decoration-color: #7f7f7f\">52 </span><span style=\"color: #7f7f7f; text-decoration-color: #7f7f7f\">│   │   </span>                                                                                    <span style=\"color: #800000; text-decoration-color: #800000\">│</span>\n<span style=\"color: #800000; text-decoration-color: #800000\">│</span>   <span style=\"color: #7f7f7f; text-decoration-color: #7f7f7f\">53 </span><span style=\"color: #7f7f7f; text-decoration-color: #7f7f7f\">│   │   </span><span style=\"color: #00ffff; text-decoration-color: #00ffff\">self</span>.res = _start_loop(portfolio_weight_matrix, open_price_matrix, init_asset_va    <span style=\"color: #800000; text-decoration-color: #800000\">│</span>\n<span style=\"color: #800000; text-decoration-color: #800000\">│</span>   <span style=\"color: #7f7f7f; text-decoration-color: #7f7f7f\">54 </span><span style=\"color: #7f7f7f; text-decoration-color: #7f7f7f\">│   │   </span>final_position = <span style=\"color: #00ffff; text-decoration-color: #00ffff\">self</span>.res[-<span style=\"color: #0000ff; text-decoration-color: #0000ff\">1</span>, :-<span style=\"color: #0000ff; text-decoration-color: #0000ff\">1</span>]                                                  <span style=\"color: #800000; text-decoration-color: #800000\">│</span>\n<span style=\"color: #800000; text-decoration-color: #800000\">╰──────────────────────────────────────────────────────────────────────────────────────────────────╯</span>\n<span style=\"color: #ff0000; text-decoration-color: #ff0000; font-weight: bold\">Exception: </span>Error, not always delta neutral\n</pre>\n"
     },
     "metadata": {},
     "output_type": "display_data"
    }
   ],
   "source": [
    "evaluator = Evaluator()\n",
    "profit_ratio = evaluator.evaluate(portfolio_weight_matrix, price_matrix, init_asset_value=10000, taker_fee=0.0004,\n",
    "                   volume_precision=volume_precision, min_notional=min_notional)\n",
    "print(profit_ratio)"
   ],
   "metadata": {
    "collapsed": false,
    "ExecuteTime": {
     "end_time": "2024-03-13T16:12:48.617080Z",
     "start_time": "2024-03-13T16:12:48.587708Z"
    }
   },
   "id": "dc913752f2e9bc90"
  },
  {
   "cell_type": "code",
   "execution_count": null,
   "outputs": [],
   "source": [],
   "metadata": {
    "collapsed": false
   },
   "id": "ea70732484eca48"
  }
 ],
 "metadata": {
  "kernelspec": {
   "display_name": "Python 3",
   "language": "python",
   "name": "python3"
  },
  "language_info": {
   "codemirror_mode": {
    "name": "ipython",
    "version": 2
   },
   "file_extension": ".py",
   "mimetype": "text/x-python",
   "name": "python",
   "nbconvert_exporter": "python",
   "pygments_lexer": "ipython2",
   "version": "2.7.6"
  }
 },
 "nbformat": 4,
 "nbformat_minor": 5
}
