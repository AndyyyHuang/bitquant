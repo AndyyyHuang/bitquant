{
 "cells": [
  {
   "cell_type": "code",
   "execution_count": 1,
   "id": "initial_id",
   "metadata": {
    "ExecuteTime": {
     "end_time": "2024-03-11T05:35:34.981875Z",
     "start_time": "2024-03-11T05:35:34.426200Z"
    },
    "collapsed": true
   },
   "outputs": [],
   "source": [
    "from bitquant.utils.timeutils import TimeUtils"
   ]
  },
  {
   "cell_type": "code",
   "execution_count": 4,
   "id": "3069b00d1fc0d2f2",
   "metadata": {
    "ExecuteTime": {
     "end_time": "2024-03-11T05:35:44.245753Z",
     "start_time": "2024-03-11T05:35:44.243265Z"
    },
    "collapsed": false
   },
   "outputs": [
    {
     "data": {
      "text/plain": [
       "datetime.datetime(2023, 1, 1, 0, 0, tzinfo=datetime.timezone.utc)"
      ]
     },
     "execution_count": 4,
     "metadata": {},
     "output_type": "execute_result"
    }
   ],
   "source": [
    "TimeUtils.ms_to_timestamp(1672531200000)"
   ]
  },
  {
   "cell_type": "code",
   "execution_count": 3,
   "id": "341ad14e700ae91a",
   "metadata": {
    "ExecuteTime": {
     "end_time": "2024-03-11T05:35:39.683232Z",
     "start_time": "2024-03-11T05:35:39.678688Z"
    },
    "collapsed": false
   },
   "outputs": [
    {
     "data": {
      "text/plain": [
       "1672531200000"
      ]
     },
     "execution_count": 3,
     "metadata": {},
     "output_type": "execute_result"
    }
   ],
   "source": [
    "TimeUtils.dt_str_to_ms(\"2023-01-01 00:00:00\", format=\"%Y-%m-%d %H:%M:%S\")"
   ]
  }
 ],
 "metadata": {
  "kernelspec": {
   "display_name": "Python 3",
   "language": "python",
   "name": "python3"
  },
  "language_info": {
   "codemirror_mode": {
    "name": "ipython",
    "version": 2
   },
   "file_extension": ".py",
   "mimetype": "text/x-python",
   "name": "python",
   "nbconvert_exporter": "python",
   "pygments_lexer": "ipython2",
   "version": "2.7.6"
  }
 },
 "nbformat": 4,
 "nbformat_minor": 5
}
